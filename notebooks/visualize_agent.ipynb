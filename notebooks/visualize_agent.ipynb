{
 "cells": [
  {
   "cell_type": "code",
   "execution_count": null,
   "metadata": {
    "pycharm": {
     "is_executing": true,
     "name": "#%%\n"
    }
   },
   "outputs": [],
   "source": [
    "from collections import OrderedDict\n",
    "import os\n",
    "import torch\n",
    "from l5kit.simulation.unroll import ClosedLoopSimulator\n",
    "from l5kit.data import LocalDataManager, ChunkedDataset, filter_agents_by_frames\n",
    "from l5kit.dataset import EgoDataset\n",
    "from l5kit.rasterization import build_rasterizer\n",
    "from tbsim.algos.l5kit_algos import L5TrafficModel\n",
    "from tbsim.configs.base import ExperimentConfig\n",
    "from tbsim.configs.l5kit_config import L5KitTrainConfig, L5KitEnvConfig, L5RasterizedPlanningConfig\n",
    "from tbsim.envs.env_l5kit import EnvL5KitSimulation\n",
    "from tbsim.utils.config_utils import translate_l5kit_cfg\n",
    "from tbsim.utils.env_utils import rollout_episodes\n",
    "\n",
    "from l5kit.visualization.visualizer.zarr_utils import simulation_out_to_visualizer_scene\n",
    "from l5kit.visualization.visualizer.visualizer import visualize\n",
    "from bokeh.io import output_notebook, show\n",
    "from l5kit.data import MapAPI"
   ]
  },
  {
   "cell_type": "code",
   "execution_count": null,
   "metadata": {
    "pycharm": {
     "name": "#%%\n"
    }
   },
   "outputs": [],
   "source": [
    "cfg = ExperimentConfig(\n",
    "    train_config=L5KitTrainConfig(),\n",
    "    env_config=L5KitEnvConfig(),\n",
    "    algo_config=L5RasterizedPlanningConfig()\n",
    ")\n",
    "\n",
    "# set env variable for data\n",
    "os.environ[\"L5KIT_DATA_FOLDER\"] = os.path.abspath(cfg.train.dataset_path)\n",
    "dm = LocalDataManager(None)\n",
    "l5_config = translate_l5kit_cfg(cfg)\n",
    "rasterizer = build_rasterizer(l5_config, dm)\n",
    "mapAPI = MapAPI.from_cfg(dm, l5_config)\n",
    "\n",
    "\n",
    "eval_zarr = ChunkedDataset(dm.require(cfg.train.dataset_valid_key)).open()\n",
    "env_dataset = EgoDataset(l5_config, eval_zarr, rasterizer)\n",
    "\n",
    "env = EnvL5KitSimulation(cfg.env, dataset=env_dataset, seed=cfg.seed, num_scenes=10)"
   ]
  },
  {
   "cell_type": "code",
   "execution_count": null,
   "metadata": {
    "pycharm": {
     "name": "#%%\n"
    }
   },
   "outputs": [],
   "source": [
    "device = torch.device(\"cuda:0\" if torch.cuda.is_available() else \"cpu\")\n",
    "\n",
    "modality_shapes = OrderedDict(image=(rasterizer.num_channels(), 224, 224))\n",
    "model = L5TrafficModel.load_from_checkpoint(\n",
    "    \"/home/danfeix/workspace/tbsim/l5_rasterized_trained_models/vanilla1/20211214235039/models/iter35999_ep0_simADE1.97.ckpt\",\n",
    "    algo_config=cfg.algo,\n",
    "    modality_shapes=modality_shapes,\n",
    ")\n",
    "\n",
    "model.eval()"
   ]
  },
  {
   "cell_type": "code",
   "execution_count": null,
   "metadata": {
    "pycharm": {
     "name": "#%%\n"
    }
   },
   "outputs": [],
   "source": [
    "stats, info = rollout_episodes(env, model, 1)"
   ]
  },
  {
   "cell_type": "code",
   "execution_count": null,
   "metadata": {},
   "outputs": [],
   "source": [
    "output_notebook()\n",
    "for sim_out in info[\"l5_sim_states\"]: # for each scene\n",
    "    vis_in = simulation_out_to_visualizer_scene(sim_out, mapAPI)\n",
    "    show(visualize(sim_out.scene_id, vis_in))"
   ]
  }
 ],
 "metadata": {
  "kernelspec": {
   "display_name": "Python 3 (ipykernel)",
   "language": "python",
   "name": "python3"
  },
  "language_info": {
   "codemirror_mode": {
    "name": "ipython",
    "version": 3
   },
   "file_extension": ".py",
   "mimetype": "text/x-python",
   "name": "python",
   "nbconvert_exporter": "python",
   "pygments_lexer": "ipython3",
   "version": "3.8.12"
  }
 },
 "nbformat": 4,
 "nbformat_minor": 1
}
