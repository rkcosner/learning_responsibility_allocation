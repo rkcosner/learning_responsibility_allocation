{
    "cells": [
        {
            "cell_type": "code",
            "execution_count": 1,
            "metadata": {},
            "outputs": [],
            "source": [
                "import numpy as np\n",
                "import pdb\n",
                "import dill\n",
                "import matplotlib.pyplot as plt\n",
                "import os\n",
                "from os import listdir\n",
                "from os.path import isfile, join\n",
                "import json\n",
                "from glob import glob\n"
            ]
        },
        {
            "cell_type": "code",
            "execution_count": 2,
            "metadata": {},
            "outputs": [],
            "source": [
                "result_dir = \"/home/yuxiaoc/repos/ngc_workspace/eval_result\"\n",
                "figure_dir = \"/home/yuxiaoc/repos/behavior-generation/figures\"\n",
                "results = list()\n",
                "sigmas = []\n",
                "alias = {\"GroundTruth\":\"GT\",\"HierAgentAware\":\"HAA\",\"Hierarchical\":\"Hier\",\"BC\":\"BC\",\"TPP\":\"TPP\",\"TrafficSim\":\"TS\"}\n",
                "metric_keys = []\n",
                "for file in os.listdir(result_dir):\n",
                "    curr_dir = os.path.join(result_dir,file)\n",
                "    if os.path.isdir(curr_dir):\n",
                "        if \"stats.json\" in os.listdir(curr_dir):\n",
                "            config=json.load(open(os.path.join(result_dir,file,\"config.json\"), \"r\"))\n",
                "            stats=json.load(open(os.path.join(result_dir,file,\"stats.json\"), \"r\"))\n",
                "            eval_class = config[\"eval_class\"]\n",
                "            for k,v in stats.items():\n",
                "                if k==\"ego_cvae_metrics_gt_loglikelihood\":\n",
                "                    print(curr_dir)\n",
                "                if k not in [\"scene_index\"]:\n",
                "                    key = k.split(\"_\")\n",
                "                    if \"OU\" in key:\n",
                "                        idx = key.index(\"OU\")\n",
                "                        if idx<len(key)-2 and key[idx+1]==\"sigma\":\n",
                "                            sigma = float(key[idx+2])\n",
                "                            key = key[:idx]+key[idx+3:]\n",
                "                            k = \"_\".join(key)\n",
                "                        else:\n",
                "                            sigma=0\n",
                "                    else:\n",
                "                        sigma=0\n",
                "                    if k not in metric_keys:\n",
                "                        metric_keys.append(k)\n",
                "                    if sigma not in sigmas:\n",
                "                        sigmas.append(sigma)\n",
                "                    results.append({\"class\":alias[eval_class],\"sigma\":sigma,\"key\":k,\"value\":np.mean(v)})\n",
                "                    # print(k,\":,\",np.mean(v))"
            ]
        },
        {
            "cell_type": "code",
            "execution_count": 3,
            "metadata": {},
            "outputs": [],
            "source": [
                "def get_comparison(results,key,condition,index_var):\n",
                "    xlabel = list()\n",
                "    yvalue = list()\n",
                "    for entry in results:\n",
                "        flag = True\n",
                "        flag = flag & (entry[\"key\"]==key)\n",
                "        for cond_k,cond_v in condition.items():\n",
                "            flag = flag & (entry[cond_k]==cond_v)\n",
                "        if flag:\n",
                "            xlabel.append(entry[index_var])\n",
                "            yvalue.append(entry[\"value\"])\n",
                "    return xlabel,yvalue"
            ]
        },
        {
            "cell_type": "code",
            "execution_count": 4,
            "metadata": {},
            "outputs": [
                {
                    "data": {
                        "text/plain": [
                            "['ego_ADE',\n",
                            " 'ego_FDE',\n",
                            " 'all_off_road_rate_rate',\n",
                            " 'all_off_road_rate_nframe',\n",
                            " 'all_collision_rate_CollisionType.FRONT',\n",
                            " 'all_collision_rate_CollisionType.REAR',\n",
                            " 'all_collision_rate_CollisionType.SIDE',\n",
                            " 'all_collision_rate_coll_any',\n",
                            " 'ego_occu_likelihood_indep_likelihood',\n",
                            " 'ego_occu_likelihood_joint_likelihood',\n",
                            " 'all_occupancy_coverage_total',\n",
                            " 'all_occupancy_coverage_onroad',\n",
                            " 'all_occupancy_coverage_success',\n",
                            " 'ego_occupancy_diversity',\n",
                            " 'all_coverage_total',\n",
                            " 'all_coverage_onroad',\n",
                            " 'all_coverage_success',\n",
                            " 'all_failure_offroad',\n",
                            " 'all_failure_coll',\n",
                            " 'all_failure_any',\n",
                            " 'ego_cvae_metrics_loglikelihood',\n",
                            " 'ego_cvae_metrics_loglikelihood_horizon_5',\n",
                            " 'ego_cvae_metrics_loglikelihood_horizon_10',\n",
                            " 'ego_cvae_metrics_loglikelihood_horizon_20',\n",
                            " 'ego_occu_likelihood_indep_likelihood_horizon_5',\n",
                            " 'ego_occu_likelihood_joint_likelihood_horizon_5',\n",
                            " 'ego_occu_likelihood_indep_likelihood_horizon_10',\n",
                            " 'ego_occu_likelihood_joint_likelihood_horizon_10',\n",
                            " 'ego_occu_likelihood_indep_likelihood_horizon_20',\n",
                            " 'ego_occu_likelihood_joint_likelihood_horizon_20']"
                        ]
                    },
                    "execution_count": 4,
                    "metadata": {},
                    "output_type": "execute_result"
                }
            ],
            "source": [
                "metric_keys"
            ]
        },
        {
            "cell_type": "code",
            "execution_count": 15,
            "metadata": {},
            "outputs": [
                {
                    "data": {
                        "image/png": "[encoded data removed]",
                        "text/plain": [
                            "<Figure size 432x288 with 1 Axes>"
                        ]
                    },
                    "metadata": {
                        "needs_background": "light"
                    },
                    "output_type": "display_data"
                }
            ],
            "source": [
                "key = \"ego_occu_likelihood_joint_likelihood_horizon_10\"\n",
                "xlabel,yvalue = get_comparison(results,key,{\"sigma\":0},\"class\")\n",
                "plt.bar(xlabel,yvalue)\n",
                "plt.title(key)\n",
                "plt.savefig(os.path.join(figure_dir,key+\".png\"))"
            ]
        },
        {
            "cell_type": "code",
            "execution_count": 6,
            "metadata": {},
            "outputs": [
                {
                    "data": {
                        "image/png": "[encoded data removed]",
                        "text/plain": [
                            "<Figure size 432x288 with 1 Axes>"
                        ]
                    },
                    "metadata": {
                        "needs_background": "light"
                    },
                    "output_type": "display_data"
                }
            ],
            "source": [
                "xlabel,yvalue = get_comparison(results,\"ego_occu_likelihood_joint_likelihood\",{\"class\":\"GT\"},\"sigma\")\n",
                "xlabel,yvalue = np.array(xlabel), np.array(yvalue)\n",
                "idx = np.argsort(xlabel)\n",
                "xlabel,yvalue = xlabel[idx],yvalue[idx]\n",
                "xlabel_str = [str(tick) for tick in xlabel]\n",
                "\n",
                "plt.bar(xlabel_str,yvalue)\n",
                "plt.title(\"ego_occu_likelihood under GT\")\n",
                "plt.savefig(os.path.join(figure_dir,\"ego_occu_likelihood_sigma.png\"))"
            ]
        },
        {
            "cell_type": "code",
            "execution_count": 17,
            "metadata": {},
            "outputs": [
                {
                    "data": {
                        "image/png": "[encoded data removed]",
                        "text/plain": [
                            "<Figure size 432x288 with 1 Axes>"
                        ]
                    },
                    "metadata": {
                        "needs_background": "light"
                    },
                    "output_type": "display_data"
                }
            ],
            "source": [
                "key=\"ego_cvae_metrics_loglikelihood_horizon_10\"\n",
                "xlabel,yvalue = get_comparison(results,key,{\"sigma\":0},\"class\")\n",
                "plt.bar(xlabel,yvalue)\n",
                "plt.title(key)\n",
                "plt.savefig(os.path.join(figure_dir,key+\".png\"))"
            ]
        },
        {
            "cell_type": "code",
            "execution_count": 21,
            "metadata": {},
            "outputs": [
                {
                    "data": {
                        "image/png": "[encoded data removed]",
                        "text/plain": [
                            "<Figure size 432x288 with 1 Axes>"
                        ]
                    },
                    "metadata": {
                        "needs_background": "light"
                    },
                    "output_type": "display_data"
                }
            ],
            "source": [
                "xlabel,yvalue = get_comparison(results,\"ego_cvae_metrics_loglikelihood\",{\"class\":\"GT\"},\"sigma\")\n",
                "xlabel,yvalue = np.array(xlabel), np.array(yvalue)\n",
                "idx = np.argsort(xlabel)\n",
                "xlabel,yvalue = xlabel[idx],yvalue[idx]\n",
                "xlabel_str = [str(tick) for tick in xlabel]\n",
                "\n",
                "plt.bar(xlabel_str,yvalue)\n",
                "plt.title(\"cvae metric under GT\")\n",
                "plt.savefig(os.path.join(figure_dir,\"cvae_sigma.png\"))"
            ]
        },
        {
            "cell_type": "code",
            "execution_count": 9,
            "metadata": {},
            "outputs": [
                {
                    "data": {
                        "image/png": "[encoded data removed]",
                        "text/plain": [
                            "<Figure size 432x288 with 1 Axes>"
                        ]
                    },
                    "metadata": {
                        "needs_background": "light"
                    },
                    "output_type": "display_data"
                }
            ],
            "source": [
                "xlabel,yvalue = get_comparison(results,\"all_off_road_rate_rate\",{\"sigma\":0},\"class\")\n",
                "plt.bar(xlabel,yvalue)\n",
                "plt.title(\"off road rate\")\n",
                "plt.savefig(os.path.join(figure_dir,\"offroad.png\"))"
            ]
        },
        {
            "cell_type": "code",
            "execution_count": 10,
            "metadata": {},
            "outputs": [
                {
                    "data": {
                        "image/png": "[encoded data removed]",
                        "text/plain": [
                            "<Figure size 432x288 with 1 Axes>"
                        ]
                    },
                    "metadata": {
                        "needs_background": "light"
                    },
                    "output_type": "display_data"
                }
            ],
            "source": [
                "xlabel,yvalue = get_comparison(results,\"ego_occupancy_diversity\",{\"sigma\":0},\"class\")\n",
                "plt.bar(xlabel,yvalue)\n",
                "plt.title(\"diversity metric\")\n",
                "plt.savefig(os.path.join(figure_dir,\"diversity.png\"))"
            ]
        },
        {
            "cell_type": "code",
            "execution_count": 11,
            "metadata": {},
            "outputs": [
                {
                    "data": {
                        "image/png": "[encoded data removed]",
                        "text/plain": [
                            "<Figure size 432x288 with 1 Axes>"
                        ]
                    },
                    "metadata": {
                        "needs_background": "light"
                    },
                    "output_type": "display_data"
                }
            ],
            "source": [
                "xlabel,yvalue = get_comparison(results,\"all_collision_rate_coll_any\",{\"sigma\":0},\"class\")\n",
                "plt.bar(xlabel,yvalue)\n",
                "plt.title(\"collision rate\")\n",
                "plt.savefig(os.path.join(figure_dir,\"collision.png\"))"
            ]
        },
        {
            "cell_type": "code",
            "execution_count": 12,
            "metadata": {},
            "outputs": [
                {
                    "data": {
                        "text/plain": [
                            "['ego_ADE',\n",
                            " 'ego_FDE',\n",
                            " 'all_off_road_rate_rate',\n",
                            " 'all_off_road_rate_nframe',\n",
                            " 'all_collision_rate_CollisionType.FRONT',\n",
                            " 'all_collision_rate_CollisionType.REAR',\n",
                            " 'all_collision_rate_CollisionType.SIDE',\n",
                            " 'all_collision_rate_coll_any',\n",
                            " 'ego_occu_likelihood_indep_likelihood',\n",
                            " 'ego_occu_likelihood_joint_likelihood',\n",
                            " 'all_occupancy_coverage_total',\n",
                            " 'all_occupancy_coverage_onroad',\n",
                            " 'all_occupancy_coverage_success',\n",
                            " 'ego_occupancy_diversity',\n",
                            " 'ego_cvae_metrics_loglikelihood']"
                        ]
                    },
                    "execution_count": 12,
                    "metadata": {},
                    "output_type": "execute_result"
                }
            ],
            "source": [
                "metric_keys"
            ]
        }
    ],
    "metadata": {
        "interpreter": {
            "hash": "3ef5325f5fb075307c49737985bac7d5eb5f5b3c3639a46ab4d2806c87c19033"
        },
        "kernelspec": {
            "display_name": "Python 3.8.12 64-bit ('DRO': conda)",
            "language": "python",
            "name": "python3"
        },
        "language_info": {
            "codemirror_mode": {
                "name": "ipython",
                "version": 3
            },
            "file_extension": ".py",
            "mimetype": "text/x-python",
            "name": "python",
            "nbconvert_exporter": "python",
            "pygments_lexer": "ipython3",
            "version": "3.8.13"
        },
        "orig_nbformat": 4
    },
    "nbformat": 4,
    "nbformat_minor": 2
}
