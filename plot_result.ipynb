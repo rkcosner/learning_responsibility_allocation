{
    "cells": [
        {
            "cell_type": "code",
            "execution_count": 4,
            "metadata": {},
            "outputs": [],
            "source": [
                "import numpy as np\n",
                "import pdb\n",
                "import dill\n",
                "import matplotlib.pyplot as plt\n",
                "import os\n",
                "from os import listdir\n",
                "from os.path import isfile, join\n",
                "import json\n",
                "from glob import glob\n"
            ]
        },
        {
            "cell_type": "code",
            "execution_count": 52,
            "metadata": {},
            "outputs": [],
            "source": [
                "result_dir = \"/home/yuxiaoc/repos/ngc_workspace/eval_result\"\n",
                "results = list()\n",
                "alias = {\"GroundTruth\":\"GT\",\"HierAgentAware\":\"HAA\",\"Hierarchical\":\"Hier\",\"BC\":\"BC\",\"TPP\":\"TPP\",\"TrafficSim\":\"TS\"}\n",
                "for file in os.listdir(result_dir):\n",
                "    if os.path.isdir(os.path.join(result_dir,file)):\n",
                "        config=json.load(open(os.path.join(result_dir,file,\"config.json\"), \"r\"))\n",
                "        stats=json.load(open(os.path.join(result_dir,file,\"stats.json\"), \"r\"))\n",
                "        eval_class = config[\"eval_class\"]\n",
                "        sigma = config[\"perturb\"][\"OU\"][\"sigma\"]           \n",
                "        for k,v in stats.items():\n",
                "            if k not in [\"scene_index\",\"ego_cvae_metrics_gt_loglikelihood\"]:\n",
                "                results.append({\"class\":alias[eval_class],\"sigma\":sigma,\"key\":k,\"value\":np.mean(v)})\n",
                "                # print(k,\":,\",np.mean(v))"
            ]
        },
        {
            "cell_type": "code",
            "execution_count": 25,
            "metadata": {},
            "outputs": [],
            "source": [
                "def get_comparison(results,key,condition,index_var):\n",
                "    xlabel = list()\n",
                "    yvalue = list()\n",
                "    for entry in results:\n",
                "        flag = True\n",
                "        flag = flag & (entry[\"key\"]==key)\n",
                "        for cond_k,cond_v in condition.items():\n",
                "            flag = flag & (entry[cond_k]==cond_v)\n",
                "        if flag:\n",
                "            xlabel.append(entry[index_var])\n",
                "            yvalue.append(entry[\"value\"])\n",
                "    return xlabel,yvalue"
            ]
        },
        {
            "cell_type": "code",
            "execution_count": 57,
            "metadata": {},
            "outputs": [
                {
                    "data": {
                        "text/plain": [
                            "<BarContainer object of 6 artists>"
                        ]
                    },
                    "execution_count": 57,
                    "metadata": {},
                    "output_type": "execute_result"
                },
                {
                    "data": {
                        "image/png": "[encoded data removed]",
                        "text/plain": [
                            "<Figure size 432x288 with 1 Axes>"
                        ]
                    },
                    "metadata": {
                        "needs_background": "light"
                    },
                    "output_type": "display_data"
                }
            ],
            "source": [
                "xlabel,yvalue = get_comparison(results,\"all_occupancy_coverage_total\",{\"sigma\":0.1},\"class\")\n",
                "\n",
                "\n",
                "plt.bar(xlabel,yvalue)"
            ]
        },
        {
            "cell_type": "code",
            "execution_count": 55,
            "metadata": {},
            "outputs": [
                {
                    "data": {
                        "text/plain": [
                            "<BarContainer object of 6 artists>"
                        ]
                    },
                    "execution_count": 55,
                    "metadata": {},
                    "output_type": "execute_result"
                },
                {
                    "data": {
                        "image/png": "[encoded data removed]",
                        "text/plain": [
                            "<Figure size 432x288 with 1 Axes>"
                        ]
                    },
                    "metadata": {
                        "needs_background": "light"
                    },
                    "output_type": "display_data"
                }
            ],
            "source": [
                "xlabel,yvalue = get_comparison(results,\"all_occupancy_coverage_total\",{\"class\":\"HAA\"},\"sigma\")\n",
                "xlabel,yvalue = np.array(xlabel), np.array(yvalue)\n",
                "idx = np.argsort(xlabel)\n",
                "xlabel,yvalue = xlabel[idx],yvalue[idx]\n",
                "xlabel_str = [str(tick) for tick in xlabel]\n",
                "\n",
                "plt.bar(xlabel_str,yvalue)"
            ]
        }
    ],
    "metadata": {
        "interpreter": {
            "hash": "3ef5325f5fb075307c49737985bac7d5eb5f5b3c3639a46ab4d2806c87c19033"
        },
        "kernelspec": {
            "display_name": "Python 3.8.12 64-bit ('DRO': conda)",
            "language": "python",
            "name": "python3"
        },
        "language_info": {
            "codemirror_mode": {
                "name": "ipython",
                "version": 3
            },
            "file_extension": ".py",
            "mimetype": "text/x-python",
            "name": "python",
            "nbconvert_exporter": "python",
            "pygments_lexer": "ipython3",
            "version": "3.8.13"
        },
        "orig_nbformat": 4
    },
    "nbformat": 4,
    "nbformat_minor": 2
}
